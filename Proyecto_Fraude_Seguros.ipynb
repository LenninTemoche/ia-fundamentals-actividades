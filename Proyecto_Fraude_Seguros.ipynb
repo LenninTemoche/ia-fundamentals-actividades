{
 "cells": [
  {
   "cell_type": "markdown",
   "id": "4ba7dca9",
   "metadata": {},
   "source": [
    "## 📊 Proyecto: Predicción de Reclamaciones Fraudulentas en Seguros de Automóviles\n",
    "Dataset: **AutoInsClaims.csv**\n",
    "\n",
    "Este notebook replica la actividad guiada en IBM Watson Studio, adaptada a Python y Jupyter/Colab."
   ]
  },
  {
   "cell_type": "markdown",
   "id": "c28d29c0",
   "metadata": {},
   "source": [
    "### ✅ Paso 1: Importar Librerías"
   ]
  },
  {
   "cell_type": "code",
   "execution_count": 19,
   "id": "e355c934",
   "metadata": {},
   "outputs": [],
   "source": [
    "# Importamos las librerías necesarias\n",
    "import pandas as pd\n",
    "import matplotlib.pyplot as plt\n",
    "import seaborn as sns\n",
    "\n",
    "# Configuramos estilo de gráficos\n",
    "sns.set(style=\"whitegrid\")\n"
   ]
  },
  {
   "cell_type": "markdown",
   "id": "8e572ede",
   "metadata": {},
   "source": [
    "### ✅ Paso 2: Importación del Dataset\n",
    "\n",
    "Cargamos el archivo `AutoInsClaims.csv` en un DataFrame de pandas."
   ]
  },
  {
   "cell_type": "code",
   "execution_count": 20,
   "id": "db28f067",
   "metadata": {},
   "outputs": [
    {
     "name": "stdout",
     "output_type": "stream",
     "text": [
      "Dimensiones: (975, 38)\n"
     ]
    },
    {
     "data": {
      "text/html": [
       "<div>\n",
       "<style scoped>\n",
       "    .dataframe tbody tr th:only-of-type {\n",
       "        vertical-align: middle;\n",
       "    }\n",
       "\n",
       "    .dataframe tbody tr th {\n",
       "        vertical-align: top;\n",
       "    }\n",
       "\n",
       "    .dataframe thead th {\n",
       "        text-align: right;\n",
       "    }\n",
       "</style>\n",
       "<table border=\"1\" class=\"dataframe\">\n",
       "  <thead>\n",
       "    <tr style=\"text-align: right;\">\n",
       "      <th></th>\n",
       "      <th>HOUSEHOLD_ID</th>\n",
       "      <th>DRIVER_ID</th>\n",
       "      <th>POLICY_ID</th>\n",
       "      <th>CLAIM_ID</th>\n",
       "      <th>INCIDENT_CAUSE</th>\n",
       "      <th>DESCRIPTION</th>\n",
       "      <th>CLAIM_STATUS</th>\n",
       "      <th>ODOMETER_AT_LOSS</th>\n",
       "      <th>LOSS_EVENT_TIME</th>\n",
       "      <th>CLAIM_INIT_TIME</th>\n",
       "      <th>...</th>\n",
       "      <th>GENDER</th>\n",
       "      <th>BIRTHDATE</th>\n",
       "      <th>SSN</th>\n",
       "      <th>DRIVERS_LICENSE_ID</th>\n",
       "      <th>DRIVERS_LICENSE_EXPIRY</th>\n",
       "      <th>DRIVERS_LICENSE_STATE</th>\n",
       "      <th>DATE_AT_CURRENT_ADDRESS</th>\n",
       "      <th>CONTACT_NUMBER</th>\n",
       "      <th>EMAIL</th>\n",
       "      <th>COMMUTE_DISCOUNT</th>\n",
       "    </tr>\n",
       "  </thead>\n",
       "  <tbody>\n",
       "    <tr>\n",
       "      <th>0</th>\n",
       "      <td>CH42335</td>\n",
       "      <td>XZJ2837</td>\n",
       "      <td>NW5567882</td>\n",
       "      <td>A-2017-UU907</td>\n",
       "      <td>3</td>\n",
       "      <td>NaN</td>\n",
       "      <td>1</td>\n",
       "      <td>157654.9</td>\n",
       "      <td>4/25/17</td>\n",
       "      <td>4/28/17</td>\n",
       "      <td>...</td>\n",
       "      <td>M</td>\n",
       "      <td>12/25/73</td>\n",
       "      <td>457-20-9007</td>\n",
       "      <td>X151-5971-1594</td>\n",
       "      <td>8/19/18</td>\n",
       "      <td>IL</td>\n",
       "      <td>4/16/99</td>\n",
       "      <td>634-603-0960</td>\n",
       "      <td>wdorau@freshmaail.com</td>\n",
       "      <td>0</td>\n",
       "    </tr>\n",
       "    <tr>\n",
       "      <th>1</th>\n",
       "      <td>IH49805</td>\n",
       "      <td>VVR6423</td>\n",
       "      <td>UR4864804</td>\n",
       "      <td>A-2018-FI481</td>\n",
       "      <td>3</td>\n",
       "      <td>NaN</td>\n",
       "      <td>3</td>\n",
       "      <td>226154.5</td>\n",
       "      <td>8/26/18</td>\n",
       "      <td>8/31/18</td>\n",
       "      <td>...</td>\n",
       "      <td>F</td>\n",
       "      <td>9/14/45</td>\n",
       "      <td>718-38-8987</td>\n",
       "      <td>K702-7678-1851</td>\n",
       "      <td>1/27/18</td>\n",
       "      <td>IL</td>\n",
       "      <td>6/9/11</td>\n",
       "      <td>827-916-0381</td>\n",
       "      <td>tmostrom@yahoot.com</td>\n",
       "      <td>0</td>\n",
       "    </tr>\n",
       "    <tr>\n",
       "      <th>2</th>\n",
       "      <td>AF28736</td>\n",
       "      <td>UQM2512</td>\n",
       "      <td>RR8595908</td>\n",
       "      <td>A-2016-ZG694</td>\n",
       "      <td>1</td>\n",
       "      <td>NaN</td>\n",
       "      <td>1</td>\n",
       "      <td>83968.6</td>\n",
       "      <td>1/7/16</td>\n",
       "      <td>1/11/16</td>\n",
       "      <td>...</td>\n",
       "      <td>F</td>\n",
       "      <td>5/16/88</td>\n",
       "      <td>076-62-7083</td>\n",
       "      <td>V549-5272-3181</td>\n",
       "      <td>11/19/19</td>\n",
       "      <td>IL</td>\n",
       "      <td>5/21/05</td>\n",
       "      <td>723-552-0479</td>\n",
       "      <td>esebranek@zohoo.com</td>\n",
       "      <td>0</td>\n",
       "    </tr>\n",
       "    <tr>\n",
       "      <th>3</th>\n",
       "      <td>EF53594</td>\n",
       "      <td>YDT5591</td>\n",
       "      <td>RN5640634</td>\n",
       "      <td>A-2016-NG783</td>\n",
       "      <td>1</td>\n",
       "      <td>NaN</td>\n",
       "      <td>1</td>\n",
       "      <td>309570.3</td>\n",
       "      <td>12/11/16</td>\n",
       "      <td>12/18/16</td>\n",
       "      <td>...</td>\n",
       "      <td>M</td>\n",
       "      <td>1/18/74</td>\n",
       "      <td>571-32-3662</td>\n",
       "      <td>Z350-2956-6553</td>\n",
       "      <td>5/16/19</td>\n",
       "      <td>IL</td>\n",
       "      <td>3/11/00</td>\n",
       "      <td>741-637-0631</td>\n",
       "      <td>dnickless@life.com</td>\n",
       "      <td>0</td>\n",
       "    </tr>\n",
       "    <tr>\n",
       "      <th>4</th>\n",
       "      <td>LD32277</td>\n",
       "      <td>ONM5465</td>\n",
       "      <td>YY1229530</td>\n",
       "      <td>A-2017-ZO863</td>\n",
       "      <td>3</td>\n",
       "      <td>NaN</td>\n",
       "      <td>3</td>\n",
       "      <td>136633.9</td>\n",
       "      <td>6/6/17</td>\n",
       "      <td>6/8/17</td>\n",
       "      <td>...</td>\n",
       "      <td>M</td>\n",
       "      <td>5/1/50</td>\n",
       "      <td>315-84-4443</td>\n",
       "      <td>E912-8544-3880</td>\n",
       "      <td>7/6/20</td>\n",
       "      <td>IL</td>\n",
       "      <td>7/4/12</td>\n",
       "      <td>735-427-0152</td>\n",
       "      <td>fliggan@mooosend.com</td>\n",
       "      <td>0</td>\n",
       "    </tr>\n",
       "  </tbody>\n",
       "</table>\n",
       "<p>5 rows × 38 columns</p>\n",
       "</div>"
      ],
      "text/plain": [
       "  HOUSEHOLD_ID DRIVER_ID  POLICY_ID      CLAIM_ID  INCIDENT_CAUSE  \\\n",
       "0      CH42335   XZJ2837  NW5567882  A-2017-UU907               3   \n",
       "1      IH49805   VVR6423  UR4864804  A-2018-FI481               3   \n",
       "2      AF28736   UQM2512  RR8595908  A-2016-ZG694               1   \n",
       "3      EF53594   YDT5591  RN5640634  A-2016-NG783               1   \n",
       "4      LD32277   ONM5465  YY1229530  A-2017-ZO863               3   \n",
       "\n",
       "   DESCRIPTION  CLAIM_STATUS  ODOMETER_AT_LOSS LOSS_EVENT_TIME  \\\n",
       "0          NaN             1          157654.9         4/25/17   \n",
       "1          NaN             3          226154.5         8/26/18   \n",
       "2          NaN             1           83968.6          1/7/16   \n",
       "3          NaN             1          309570.3        12/11/16   \n",
       "4          NaN             3          136633.9          6/6/17   \n",
       "\n",
       "  CLAIM_INIT_TIME  ...  GENDER  BIRTHDATE          SSN  DRIVERS_LICENSE_ID  \\\n",
       "0         4/28/17  ...       M   12/25/73  457-20-9007      X151-5971-1594   \n",
       "1         8/31/18  ...       F    9/14/45  718-38-8987      K702-7678-1851   \n",
       "2         1/11/16  ...       F    5/16/88  076-62-7083      V549-5272-3181   \n",
       "3        12/18/16  ...       M    1/18/74  571-32-3662      Z350-2956-6553   \n",
       "4          6/8/17  ...       M     5/1/50  315-84-4443      E912-8544-3880   \n",
       "\n",
       "   DRIVERS_LICENSE_EXPIRY  DRIVERS_LICENSE_STATE DATE_AT_CURRENT_ADDRESS  \\\n",
       "0                 8/19/18                     IL                 4/16/99   \n",
       "1                 1/27/18                     IL                  6/9/11   \n",
       "2                11/19/19                     IL                 5/21/05   \n",
       "3                 5/16/19                     IL                 3/11/00   \n",
       "4                  7/6/20                     IL                  7/4/12   \n",
       "\n",
       "  CONTACT_NUMBER                  EMAIL  COMMUTE_DISCOUNT  \n",
       "0  634-603-0960   wdorau@freshmaail.com                 0  \n",
       "1  827-916-0381     tmostrom@yahoot.com                 0  \n",
       "2  723-552-0479     esebranek@zohoo.com                 0  \n",
       "3  741-637-0631      dnickless@life.com                 0  \n",
       "4  735-427-0152    fliggan@mooosend.com                 0  \n",
       "\n",
       "[5 rows x 38 columns]"
      ]
     },
     "execution_count": 20,
     "metadata": {},
     "output_type": "execute_result"
    }
   ],
   "source": [
    "# Cargar dataset (asegúrate de subir AutoInsClaims.csv en tu entorno)\n",
    "#data = pd.read_csv(\"AutoInsClaims.csv\")\n",
    "data = pd.read_csv(\"AutoInsClaims.csv\", low_memory=False)\n",
    "print(\"Dimensiones:\", data.shape)\n",
    "\n",
    "# Mostramos primeras filas\n",
    "data.head()"
   ]
  },
  {
   "cell_type": "markdown",
   "id": "b61bc88d",
   "metadata": {},
   "source": [
    "### ✅ Paso 3: Exploración y Limpieza de Datos\n",
    "\n",
    "- Revisamos la estructura del dataset.\n",
    "- Eliminamos columnas identificadoras y vacías.\n",
    "- Aseguramos tipos de datos correctos."
   ]
  },
  {
   "cell_type": "markdown",
   "id": "ad57be35",
   "metadata": {},
   "source": [
    "#### Identificación Automática de Columnas para desechar\n",
    "\n",
    "Antes de eliminar manualmente columnas, podemos usar Python para detectar:\n",
    "- Columnas **identificadores únicos** (cada fila tiene un valor distinto).\n",
    "- Columnas **vacías o casi vacías** (alto porcentaje de nulos).\n",
    "- Columnas con **baja variabilidad** (todos los valores iguales).\n"
   ]
  },
  {
   "cell_type": "code",
   "execution_count": 21,
   "id": "9d0877e3",
   "metadata": {},
   "outputs": [
    {
     "name": "stdout",
     "output_type": "stream",
     "text": [
      "Identificadores únicos: ['HOUSEHOLD_ID', 'DRIVER_ID', 'POLICY_ID', 'CLAIM_ID', 'ODOMETER_AT_LOSS', 'PRIMARY_DRIVER_ID', 'PLATE', 'SSN', 'DRIVERS_LICENSE_ID', 'CONTACT_NUMBER', 'EMAIL']\n",
      "Columnas vacías: ['DESCRIPTION']\n",
      "Columnas sin variabilidad: ['DESCRIPTION', 'DRIVERS_LICENSE_STATE']\n"
     ]
    }
   ],
   "source": [
    "# Número de filas\n",
    "n_rows = len(data)\n",
    "\n",
    "# Identificadores únicos (tantos valores únicos como filas)\n",
    "unique_id_cols = [col for col in data.columns if data[col].nunique() == n_rows]\n",
    "\n",
    "# Columnas vacías o casi vacías (>90% nulos)\n",
    "null_percentage = data.isnull().mean() * 100\n",
    "empty_cols = null_percentage[null_percentage > 90].index.tolist()\n",
    "\n",
    "# Columnas sin variabilidad (solo 1 valor único)\n",
    "low_variance_cols = [col for col in data.columns if data[col].nunique() <= 1]\n",
    "\n",
    "print(\"Identificadores únicos:\", unique_id_cols)\n",
    "print(\"Columnas vacías:\", empty_cols)\n",
    "print(\"Columnas sin variabilidad:\", low_variance_cols)\n"
   ]
  },
  {
   "cell_type": "code",
   "execution_count": 22,
   "id": "91e1c628",
   "metadata": {},
   "outputs": [
    {
     "name": "stdout",
     "output_type": "stream",
     "text": [
      "<class 'pandas.core.frame.DataFrame'>\n",
      "RangeIndex: 975 entries, 0 to 974\n",
      "Data columns (total 38 columns):\n",
      " #   Column                   Non-Null Count  Dtype  \n",
      "---  ------                   --------------  -----  \n",
      " 0   HOUSEHOLD_ID             975 non-null    object \n",
      " 1   DRIVER_ID                975 non-null    object \n",
      " 2   POLICY_ID                975 non-null    object \n",
      " 3   CLAIM_ID                 975 non-null    object \n",
      " 4   INCIDENT_CAUSE           975 non-null    int64  \n",
      " 5   DESCRIPTION              0 non-null      float64\n",
      " 6   CLAIM_STATUS             975 non-null    int64  \n",
      " 7   ODOMETER_AT_LOSS         975 non-null    float64\n",
      " 8   LOSS_EVENT_TIME          975 non-null    object \n",
      " 9   CLAIM_INIT_TIME          975 non-null    object \n",
      " 10  POLICE_REPORT            975 non-null    int64  \n",
      " 11  CLAIMS_AT_LOSS_DATE      975 non-null    int64  \n",
      " 12  LOSS_LOCATION_LAT        975 non-null    float64\n",
      " 13  LOSS_LOCATION_LONG       975 non-null    float64\n",
      " 14  CLAIM_AMOUNT             975 non-null    float64\n",
      " 15  FLAG_FOR_FRAUD_INV       975 non-null    int64  \n",
      " 16  PRIMARY_DRIVER_ID        975 non-null    object \n",
      " 17  START_DATE               975 non-null    object \n",
      " 18  EXPIRY_DATE              975 non-null    object \n",
      " 19  MODEL_YEAR               975 non-null    int64  \n",
      " 20  MAKE                     975 non-null    object \n",
      " 21  MODEL                    975 non-null    object \n",
      " 22  PLATE                    975 non-null    object \n",
      " 23  COLOR                    975 non-null    object \n",
      " 24  INITIAL_ODOMETER         975 non-null    int64  \n",
      " 25  LOW_MILEAGE_USE          975 non-null    int64  \n",
      " 26  FIRST_NAME               975 non-null    object \n",
      " 27  LAST_NAME                975 non-null    object \n",
      " 28  GENDER                   975 non-null    object \n",
      " 29  BIRTHDATE                975 non-null    object \n",
      " 30  SSN                      975 non-null    object \n",
      " 31  DRIVERS_LICENSE_ID       975 non-null    object \n",
      " 32  DRIVERS_LICENSE_EXPIRY   975 non-null    object \n",
      " 33  DRIVERS_LICENSE_STATE    975 non-null    object \n",
      " 34  DATE_AT_CURRENT_ADDRESS  975 non-null    object \n",
      " 35  CONTACT_NUMBER           975 non-null    object \n",
      " 36  EMAIL                    975 non-null    object \n",
      " 37  COMMUTE_DISCOUNT         975 non-null    int64  \n",
      "dtypes: float64(5), int64(9), object(24)\n",
      "memory usage: 289.6+ KB\n",
      "Dimensiones después de limpieza: (975, 31)\n"
     ]
    }
   ],
   "source": [
    "# Revisamos estructura y tipos de datos\n",
    "data.info()\n",
    "\n",
    "# Eliminamos columnas no útiles (identificadores únicos, vacías - según actividad guiada)\n",
    "cols_to_drop = [\n",
    "    \"HOUSEHOLD_ID\", \"DRIVER_ID\", \"POLICY_ID\", \"CLAIM_ID\",\n",
    "    \"PRIMARY_DRIVER_ID\", \"DESCRIPTION\", \"DRIVERS_LICENSE_ID\"\n",
    "]\n",
    "data_clean = data.drop(columns=[c for c in cols_to_drop if c in data.columns])\n",
    "\n",
    "# Verificamos nuevamente\n",
    "#data_clean.info()\n",
    "print(\"Dimensiones después de limpieza:\", data_clean.shape)"
   ]
  },
  {
   "cell_type": "markdown",
   "id": "1557bb8f",
   "metadata": {},
   "source": [
    "### ⏱ Conversión de Tipos de Datos (Fechas)"
   ]
  },
  {
   "cell_type": "code",
   "execution_count": 23,
   "id": "246f350f",
   "metadata": {},
   "outputs": [
    {
     "name": "stderr",
     "output_type": "stream",
     "text": [
      "C:\\Users\\KEILY\\AppData\\Local\\Temp\\ipykernel_1612\\1409374767.py:3: UserWarning: Could not infer format, so each element will be parsed individually, falling back to `dateutil`. To ensure parsing is consistent and as-expected, please specify a format.\n",
      "  data_clean[col] = pd.to_datetime(data_clean[col], errors=\"coerce\")\n",
      "C:\\Users\\KEILY\\AppData\\Local\\Temp\\ipykernel_1612\\1409374767.py:3: UserWarning: Could not infer format, so each element will be parsed individually, falling back to `dateutil`. To ensure parsing is consistent and as-expected, please specify a format.\n",
      "  data_clean[col] = pd.to_datetime(data_clean[col], errors=\"coerce\")\n"
     ]
    },
    {
     "name": "stdout",
     "output_type": "stream",
     "text": [
      "<class 'pandas.core.frame.DataFrame'>\n",
      "RangeIndex: 975 entries, 0 to 974\n",
      "Data columns (total 31 columns):\n",
      " #   Column                   Non-Null Count  Dtype         \n",
      "---  ------                   --------------  -----         \n",
      " 0   INCIDENT_CAUSE           975 non-null    int64         \n",
      " 1   CLAIM_STATUS             975 non-null    int64         \n",
      " 2   ODOMETER_AT_LOSS         975 non-null    float64       \n",
      " 3   LOSS_EVENT_TIME          975 non-null    datetime64[ns]\n",
      " 4   CLAIM_INIT_TIME          975 non-null    datetime64[ns]\n",
      " 5   POLICE_REPORT            975 non-null    int64         \n",
      " 6   CLAIMS_AT_LOSS_DATE      975 non-null    int64         \n",
      " 7   LOSS_LOCATION_LAT        975 non-null    float64       \n",
      " 8   LOSS_LOCATION_LONG       975 non-null    float64       \n",
      " 9   CLAIM_AMOUNT             975 non-null    float64       \n",
      " 10  FLAG_FOR_FRAUD_INV       975 non-null    int64         \n",
      " 11  START_DATE               975 non-null    object        \n",
      " 12  EXPIRY_DATE              975 non-null    object        \n",
      " 13  MODEL_YEAR               975 non-null    int64         \n",
      " 14  MAKE                     975 non-null    object        \n",
      " 15  MODEL                    975 non-null    object        \n",
      " 16  PLATE                    975 non-null    object        \n",
      " 17  COLOR                    975 non-null    object        \n",
      " 18  INITIAL_ODOMETER         975 non-null    int64         \n",
      " 19  LOW_MILEAGE_USE          975 non-null    int64         \n",
      " 20  FIRST_NAME               975 non-null    object        \n",
      " 21  LAST_NAME                975 non-null    object        \n",
      " 22  GENDER                   975 non-null    object        \n",
      " 23  BIRTHDATE                975 non-null    object        \n",
      " 24  SSN                      975 non-null    object        \n",
      " 25  DRIVERS_LICENSE_EXPIRY   975 non-null    object        \n",
      " 26  DRIVERS_LICENSE_STATE    975 non-null    object        \n",
      " 27  DATE_AT_CURRENT_ADDRESS  975 non-null    object        \n",
      " 28  CONTACT_NUMBER           975 non-null    object        \n",
      " 29  EMAIL                    975 non-null    object        \n",
      " 30  COMMUTE_DISCOUNT         975 non-null    int64         \n",
      "dtypes: datetime64[ns](2), float64(4), int64(9), object(16)\n",
      "memory usage: 236.3+ KB\n"
     ]
    }
   ],
   "source": [
    "for col in [\"LOSS_EVENT_TIME\", \"CLAIM_INIT_TIME\"]:\n",
    "    if col in data_clean.columns:\n",
    "        data_clean[col] = pd.to_datetime(data_clean[col], errors=\"coerce\")\n",
    "data_clean.info()"
   ]
  },
  {
   "cell_type": "markdown",
   "id": "b1f8f0f3",
   "metadata": {},
   "source": [
    "### 💾 Guardar Refinamiento 1"
   ]
  },
  {
   "cell_type": "code",
   "execution_count": 24,
   "id": "8d518a93",
   "metadata": {},
   "outputs": [
    {
     "name": "stdout",
     "output_type": "stream",
     "text": [
      "Archivo guardado: AutoInsClaims_shaped.csv\n"
     ]
    }
   ],
   "source": [
    "data_clean.to_csv(\"AutoInsClaims_shaped.csv\", index=False)\n",
    "print(\"Archivo guardado: AutoInsClaims_shaped.csv\")"
   ]
  },
  {
   "cell_type": "markdown",
   "id": "839b1be4",
   "metadata": {},
   "source": [
    "### ✅ Paso 4: Segundo Refinamiento - Variable Derivada\n",
    "\n",
    "Creamos la columna `EXCESSIVE_CLAIM_AMOUNT` para validar la hipótesis:\n",
    "- 1 si `CLAIM_AMOUNT > 10000`\n",
    "- 0 en caso contrario"
   ]
  },
  {
   "cell_type": "code",
   "execution_count": 25,
   "id": "a2f6dbde",
   "metadata": {},
   "outputs": [
    {
     "data": {
      "text/html": [
       "<div>\n",
       "<style scoped>\n",
       "    .dataframe tbody tr th:only-of-type {\n",
       "        vertical-align: middle;\n",
       "    }\n",
       "\n",
       "    .dataframe tbody tr th {\n",
       "        vertical-align: top;\n",
       "    }\n",
       "\n",
       "    .dataframe thead th {\n",
       "        text-align: right;\n",
       "    }\n",
       "</style>\n",
       "<table border=\"1\" class=\"dataframe\">\n",
       "  <thead>\n",
       "    <tr style=\"text-align: right;\">\n",
       "      <th></th>\n",
       "      <th>CLAIM_AMOUNT</th>\n",
       "      <th>EXCESSIVE_CLAIM_AMOUNT</th>\n",
       "    </tr>\n",
       "  </thead>\n",
       "  <tbody>\n",
       "    <tr>\n",
       "      <th>0</th>\n",
       "      <td>35765.0</td>\n",
       "      <td>1</td>\n",
       "    </tr>\n",
       "    <tr>\n",
       "      <th>1</th>\n",
       "      <td>1909.0</td>\n",
       "      <td>0</td>\n",
       "    </tr>\n",
       "    <tr>\n",
       "      <th>2</th>\n",
       "      <td>25730.0</td>\n",
       "      <td>1</td>\n",
       "    </tr>\n",
       "    <tr>\n",
       "      <th>3</th>\n",
       "      <td>40880.0</td>\n",
       "      <td>1</td>\n",
       "    </tr>\n",
       "    <tr>\n",
       "      <th>4</th>\n",
       "      <td>2130.0</td>\n",
       "      <td>0</td>\n",
       "    </tr>\n",
       "  </tbody>\n",
       "</table>\n",
       "</div>"
      ],
      "text/plain": [
       "   CLAIM_AMOUNT  EXCESSIVE_CLAIM_AMOUNT\n",
       "0       35765.0                       1\n",
       "1        1909.0                       0\n",
       "2       25730.0                       1\n",
       "3       40880.0                       1\n",
       "4        2130.0                       0"
      ]
     },
     "execution_count": 25,
     "metadata": {},
     "output_type": "execute_result"
    }
   ],
   "source": [
    "def clean_amount(x):\n",
    "    if pd.isnull(x):\n",
    "        return np.nan\n",
    "    s = str(x).strip()\n",
    "    s = s.replace(\"$\",\"\").replace(\",\",\"\").replace(\" \",\"\")\n",
    "    s = s.replace(\"(\",\"-\").replace(\")\",\"\")\n",
    "    try:\n",
    "        return float(s)\n",
    "    except:\n",
    "        return np.nan\n",
    "\n",
    "if \"CLAIM_AMOUNT\" in data_clean.columns:\n",
    "    data_clean[\"CLAIM_AMOUNT\"] = data_clean[\"CLAIM_AMOUNT\"].map(clean_amount)\n",
    "\n",
    "data_clean[\"EXCESSIVE_CLAIM_AMOUNT\"] = (data_clean[\"CLAIM_AMOUNT\"] > 10000).astype(int)\n",
    "data_clean[[\"CLAIM_AMOUNT\",\"EXCESSIVE_CLAIM_AMOUNT\"]].head()"
   ]
  },
  {
   "cell_type": "markdown",
   "id": "20552e38",
   "metadata": {},
   "source": [
    "### 💾 Guardar Refinamiento 2"
   ]
  },
  {
   "cell_type": "code",
   "execution_count": 26,
   "id": "e4106a6a",
   "metadata": {},
   "outputs": [
    {
     "name": "stdout",
     "output_type": "stream",
     "text": [
      "Archivo guardado: AutoInsClaims_refined.csv\n"
     ]
    }
   ],
   "source": [
    "data_clean.to_csv(\"AutoInsClaims_refined.csv\", index=False)\n",
    "print(\"Archivo guardado: AutoInsClaims_refined.csv\")\n",
    "#AutoInsClaims_shaped_shaped.csv"
   ]
  },
  {
   "cell_type": "markdown",
   "id": "a9d4eade",
   "metadata": {},
   "source": [
    "### ✅ Paso 5: Visualización de Datos\n",
    "\n",
    "Ahora usamos el dataset refinado para validar la hipótesis, generamos la img de Visualización.\n",
    "\n",
    "- **Eje X:** EXCESSIVE_CLAIM_AMOUNT\n",
    "- **Eje Y:** CLAIM_AMOUNT\n",
    "- **Color:** FLAG_FOR_FRAUD_INV"
   ]
  },
  {
   "cell_type": "code",
   "execution_count": 28,
   "id": "94d37de0",
   "metadata": {},
   "outputs": [
    {
     "data": {
      "image/png": "[encoded data removed]",
      "text/plain": [
       "<Figure size 1000x600 with 1 Axes>"
      ]
     },
     "metadata": {},
     "output_type": "display_data"
    }
   ],
   "source": [
    "plt.figure(figsize=(10,6))\n",
    "sns.scatterplot(\n",
    "    data=data_clean,\n",
    "    x=\"EXCESSIVE_CLAIM_AMOUNT\",\n",
    "    y=\"CLAIM_AMOUNT\",\n",
    "    hue=\"FLAG_FOR_FRAUD_INV\",\n",
    "    alpha=0.6,\n",
    "    palette=\"Set1\"\n",
    ")\n",
    "plt.title(\"Visualización - Fraude vs. Monto Excesivo\")\n",
    "plt.xlabel(\"Reclamo Excesivo (> $10,000)\")\n",
    "plt.ylabel(\"Monto del Reclamo\")\n",
    "plt.savefig(\"Visualización - Fraude vs. Monto Excesivo.png\", dpi=300, bbox_inches=\"tight\")\n",
    "plt.show()\n"
   ]
  },
  {
   "cell_type": "markdown",
   "id": "06160be3",
   "metadata": {},
   "source": [
    "### ✅ Paso 6: Conclusiones\n",
    "\n",
    "- La visualización está basada en el dataset refinado, tal como especifíca la guía de Watson. Se observa que:\n",
    "  * Hay fraudes en reclamos menores a $10,000.\n",
    "  * También hay fraudes en reclamos mayores, pero no todos.\n",
    "- La hipótesis se valida parcialmente, tal como se indica en el documento."
   ]
  },
  {
   "cell_type": "markdown",
   "id": "cbf5ddb8",
   "metadata": {},
   "source": [
    "# ✅ Paso 7 Fase de Predicción"
   ]
  },
  {
   "cell_type": "code",
   "execution_count": 31,
   "id": "0bbcc592",
   "metadata": {},
   "outputs": [],
   "source": [
    "#Importaciones para el Modelo Predictivo\n",
    "\n",
    "from sklearn.model_selection import train_test_split\n",
    "from sklearn.preprocessing import LabelEncoder\n",
    "from sklearn.metrics import classification_report, confusion_matrix\n",
    "from sklearn.ensemble import RandomForestClassifier\n"
   ]
  }
 ],
 "metadata": {
  "kernelspec": {
   "display_name": "Python 3",
   "language": "python",
   "name": "python3"
  },
  "language_info": {
   "codemirror_mode": {
    "name": "ipython",
    "version": 3
   },
   "file_extension": ".py",
   "mimetype": "text/x-python",
   "name": "python",
   "nbconvert_exporter": "python",
   "pygments_lexer": "ipython3",
   "version": "3.13.5"
  }
 },
 "nbformat": 4,
 "nbformat_minor": 5
}
